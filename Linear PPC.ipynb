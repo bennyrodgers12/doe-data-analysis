{
 "cells": [
  {
   "cell_type": "code",
   "execution_count": 4,
   "metadata": {},
   "outputs": [],
   "source": [
    "import numpy as np\n",
    "\n",
    "import matplotlib.pyplot as plt\n",
    "import pymc3 as pm\n",
    "import pandas as pd"
   ]
  },
  {
   "cell_type": "code",
   "execution_count": 5,
   "metadata": {},
   "outputs": [],
   "source": [
    "!wget -q --no-check-certificate https://astrostatistics.psu.edu/datasets/censor.dat"
   ]
  },
  {
   "cell_type": "code",
   "execution_count": 6,
   "metadata": {},
   "outputs": [
    {
     "data": {
      "text/html": [
       "<div>\n",
       "<style scoped>\n",
       "    .dataframe tbody tr th:only-of-type {\n",
       "        vertical-align: middle;\n",
       "    }\n",
       "\n",
       "    .dataframe tbody tr th {\n",
       "        vertical-align: top;\n",
       "    }\n",
       "\n",
       "    .dataframe thead th {\n",
       "        text-align: right;\n",
       "    }\n",
       "</style>\n",
       "<table border=\"1\" class=\"dataframe\">\n",
       "  <thead>\n",
       "    <tr style=\"text-align: right;\">\n",
       "      <th></th>\n",
       "      <th>Star</th>\n",
       "      <th>Type</th>\n",
       "      <th>Teff</th>\n",
       "      <th>Ind_Be</th>\n",
       "      <th>logN_Be</th>\n",
       "      <th>sig_Be</th>\n",
       "      <th>Ind_Li</th>\n",
       "      <th>logN_Li</th>\n",
       "    </tr>\n",
       "  </thead>\n",
       "  <tbody>\n",
       "    <tr>\n",
       "      <th>0</th>\n",
       "      <td>BD-103166</td>\n",
       "      <td>1</td>\n",
       "      <td>5320</td>\n",
       "      <td>1</td>\n",
       "      <td>0.50</td>\n",
       "      <td>NaN</td>\n",
       "      <td>1</td>\n",
       "      <td>NaN</td>\n",
       "    </tr>\n",
       "    <tr>\n",
       "      <th>1</th>\n",
       "      <td>HD_6434</td>\n",
       "      <td>1</td>\n",
       "      <td>5835</td>\n",
       "      <td>1</td>\n",
       "      <td>1.08</td>\n",
       "      <td>0.10</td>\n",
       "      <td>0</td>\n",
       "      <td>0.80</td>\n",
       "    </tr>\n",
       "    <tr>\n",
       "      <th>2</th>\n",
       "      <td>HD_9826</td>\n",
       "      <td>1</td>\n",
       "      <td>6212</td>\n",
       "      <td>1</td>\n",
       "      <td>1.05</td>\n",
       "      <td>0.13</td>\n",
       "      <td>1</td>\n",
       "      <td>2.55</td>\n",
       "    </tr>\n",
       "    <tr>\n",
       "      <th>3</th>\n",
       "      <td>HD_10647</td>\n",
       "      <td>1</td>\n",
       "      <td>6143</td>\n",
       "      <td>1</td>\n",
       "      <td>1.19</td>\n",
       "      <td>0.10</td>\n",
       "      <td>1</td>\n",
       "      <td>2.80</td>\n",
       "    </tr>\n",
       "    <tr>\n",
       "      <th>4</th>\n",
       "      <td>HD_10697</td>\n",
       "      <td>1</td>\n",
       "      <td>5641</td>\n",
       "      <td>1</td>\n",
       "      <td>1.31</td>\n",
       "      <td>0.13</td>\n",
       "      <td>1</td>\n",
       "      <td>1.96</td>\n",
       "    </tr>\n",
       "    <tr>\n",
       "      <th>...</th>\n",
       "      <td>...</td>\n",
       "      <td>...</td>\n",
       "      <td>...</td>\n",
       "      <td>...</td>\n",
       "      <td>...</td>\n",
       "      <td>...</td>\n",
       "      <td>...</td>\n",
       "      <td>...</td>\n",
       "    </tr>\n",
       "    <tr>\n",
       "      <th>63</th>\n",
       "      <td>HD_85117</td>\n",
       "      <td>2</td>\n",
       "      <td>6167</td>\n",
       "      <td>1</td>\n",
       "      <td>1.11</td>\n",
       "      <td>0.11</td>\n",
       "      <td>1</td>\n",
       "      <td>2.64</td>\n",
       "    </tr>\n",
       "    <tr>\n",
       "      <th>64</th>\n",
       "      <td>HD_189567</td>\n",
       "      <td>2</td>\n",
       "      <td>5765</td>\n",
       "      <td>1</td>\n",
       "      <td>1.06</td>\n",
       "      <td>0.10</td>\n",
       "      <td>0</td>\n",
       "      <td>0.82</td>\n",
       "    </tr>\n",
       "    <tr>\n",
       "      <th>65</th>\n",
       "      <td>HD_192310</td>\n",
       "      <td>2</td>\n",
       "      <td>5069</td>\n",
       "      <td>0</td>\n",
       "      <td>0.60</td>\n",
       "      <td>NaN</td>\n",
       "      <td>0</td>\n",
       "      <td>0.20</td>\n",
       "    </tr>\n",
       "    <tr>\n",
       "      <th>66</th>\n",
       "      <td>HD_211415</td>\n",
       "      <td>2</td>\n",
       "      <td>5890</td>\n",
       "      <td>1</td>\n",
       "      <td>1.12</td>\n",
       "      <td>0.10</td>\n",
       "      <td>1</td>\n",
       "      <td>1.92</td>\n",
       "    </tr>\n",
       "    <tr>\n",
       "      <th>67</th>\n",
       "      <td>HD_222335</td>\n",
       "      <td>2</td>\n",
       "      <td>5260</td>\n",
       "      <td>1</td>\n",
       "      <td>0.66</td>\n",
       "      <td>0.22</td>\n",
       "      <td>0</td>\n",
       "      <td>0.31</td>\n",
       "    </tr>\n",
       "  </tbody>\n",
       "</table>\n",
       "<p>68 rows × 8 columns</p>\n",
       "</div>"
      ],
      "text/plain": [
       "         Star  Type  Teff  Ind_Be  logN_Be  sig_Be  Ind_Li  logN_Li\n",
       "0   BD-103166     1  5320       1     0.50     NaN       1      NaN\n",
       "1     HD_6434     1  5835       1     1.08    0.10       0     0.80\n",
       "2     HD_9826     1  6212       1     1.05    0.13       1     2.55\n",
       "3    HD_10647     1  6143       1     1.19    0.10       1     2.80\n",
       "4    HD_10697     1  5641       1     1.31    0.13       1     1.96\n",
       "..        ...   ...   ...     ...      ...     ...     ...      ...\n",
       "63   HD_85117     2  6167       1     1.11    0.11       1     2.64\n",
       "64  HD_189567     2  5765       1     1.06    0.10       0     0.82\n",
       "65  HD_192310     2  5069       0     0.60     NaN       0     0.20\n",
       "66  HD_211415     2  5890       1     1.12    0.10       1     1.92\n",
       "67  HD_222335     2  5260       1     0.66    0.22       0     0.31\n",
       "\n",
       "[68 rows x 8 columns]"
      ]
     },
     "execution_count": 6,
     "metadata": {},
     "output_type": "execute_result"
    }
   ],
   "source": [
    "df = pd.read_csv('censor.dat', delim_whitespace=True)\n",
    "df"
   ]
  },
  {
   "cell_type": "code",
   "execution_count": 7,
   "metadata": {},
   "outputs": [
    {
     "data": {
      "text/plain": [
       "<matplotlib.collections.PathCollection at 0x7f11895a4750>"
      ]
     },
     "execution_count": 7,
     "metadata": {},
     "output_type": "execute_result"
    },
    {
     "data": {
      "image/png": "[encoded data removed]",
      "text/plain": [
       "<Figure size 432x288 with 1 Axes>"
      ]
     },
     "metadata": {
      "needs_background": "light"
     },
     "output_type": "display_data"
    }
   ],
   "source": [
    "plt.scatter(df.Teff, df.logN_Be)"
   ]
  },
  {
   "cell_type": "code",
   "execution_count": 8,
   "metadata": {},
   "outputs": [],
   "source": [
    "# Set up model parameters\n",
    "linear_model = pm.Model()\n",
    "\n",
    "with linear_model:\n",
    "    b = pm.Normal('intercept', mu=0, sd=10)\n",
    "    m = pm.Normal('slope', mu=0, sd=10)\n",
    "    σ = pm.HalfNormal('noise_sd', sd=10)\n",
    "    \n",
    "    μ = b + m * df.Teff\n",
    "    \n",
    "    Y_obs = pm.Normal(df.logN_Be.name , mu=μ , sd=σ , observed=df.logN_Be)"
   ]
  },
  {
   "cell_type": "code",
   "execution_count": null,
   "metadata": {},
   "outputs": [
    {
     "name": "stderr",
     "output_type": "stream",
     "text": [
      "Auto-assigning NUTS sampler...\n",
      "Initializing NUTS using jitter+adapt_diag...\n",
      "Sequential sampling (2 chains in 1 job)\n",
      "NUTS: [noise_sd, slope, intercept]\n",
      "Sampling chain 0, 0 divergences: 100%|██████████| 5500/5500 [02:59<00:00, 30.56it/s]\n",
      "Sampling chain 1, 0 divergences:  70%|███████   | 3860/5500 [14:11<10:14,  2.67it/s]"
     ]
    }
   ],
   "source": [
    "with linear_model:\n",
    "    trace = pm.sample(5000)"
   ]
  },
  {
   "cell_type": "code",
   "execution_count": null,
   "metadata": {},
   "outputs": [],
   "source": [
    "pm.traceplot(trace);"
   ]
  },
  {
   "cell_type": "code",
   "execution_count": null,
   "metadata": {},
   "outputs": [],
   "source": []
  }
 ],
 "metadata": {
  "kernelspec": {
   "display_name": "Python 3",
   "language": "python",
   "name": "python3"
  },
  "language_info": {
   "codemirror_mode": {
    "name": "ipython",
    "version": 3
   },
   "file_extension": ".py",
   "mimetype": "text/x-python",
   "name": "python",
   "nbconvert_exporter": "python",
   "pygments_lexer": "ipython3",
   "version": "3.7.6"
  }
 },
 "nbformat": 4,
 "nbformat_minor": 4
}
