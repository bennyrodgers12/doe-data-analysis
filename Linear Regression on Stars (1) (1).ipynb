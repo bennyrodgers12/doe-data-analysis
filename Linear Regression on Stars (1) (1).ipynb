{
 "cells": [
  {
   "cell_type": "markdown",
   "metadata": {},
   "source": [
    "Now import some commonly used libraries."
   ]
  },
  {
   "cell_type": "code",
   "execution_count": 1,
   "metadata": {},
   "outputs": [],
   "source": [
    "import numpy as np\n",
    "\n",
    "from matplotlib import pyplot as plt"
   ]
  },
  {
   "cell_type": "markdown",
   "metadata": {},
   "source": [
    "Finally, some functions that will be helpful for building our model and fitting it."
   ]
  },
  {
   "cell_type": "code",
   "execution_count": 2,
   "metadata": {},
   "outputs": [],
   "source": [
    "from scipy.stats import distributions\n",
    "from scipy.optimize import minimize"
   ]
  },
  {
   "cell_type": "markdown",
   "metadata": {},
   "source": [
    "# Load some data"
   ]
  },
  {
   "cell_type": "markdown",
   "metadata": {},
   "source": [
    "From [astrostatistics.psu.edu](https://astrostatistics.psu.edu/datasets/censor.html):\n",
    "\n",
    "> Here we present a censored dataset from stellar astronomy where the authors seek differences in the properties of stars that do and do not host extrasolar planetary systems.  It had already been established that the probability of finding a planet is a steeply rising function of the star's metal content, but it was unclear whether this arises from the metallicity at birth or from later accretion of planetary bodies.  This study focuses on the abundances of the light elements beryllium (Be) and lithium (Li) that are thought to be depleted by internal stellar burning, so that excess Be and Li should be present only in the planet accretion scenario of metal enrichment.\n",
    ">\n",
    ">The dataset and figures below are obtained from the following paper:\n",
    ">\n",
    ">    Are beryllium abundances anomalous in stars with giant planets? N. C. Santos, G. Israelian, R. J. García López, M. Mayor, R. Rebolo, S. Randich, A. Ecuvillon, and C. Domínguez Cerdeña; Astronomy & Astrophysics, 437, 1086-1096 (2004)\n",
    ">\n",
    ">The columns of the dataset are:\n",
    ">\n",
    ">    1. Star name\n",
    ">    1. Sample.  Type=1 indicates planet-hosting stars.  Type=2 is the control sample\n",
    ">    1. Teff (in degrees Kelvin) stellar surface temperature\n",
    ">    1. log N(Be), log of the abundance of beryllium scaled to the Sun's abundance (i.e. the Sun has log N(Be)=0.0).\n",
    ">    1. Measurement error to log N(Be) based on model-fitting of the observed stellar spectrum\n",
    ">    1. log N(Li), log of the abundance of lithium scaled to the Sun's abundance"
   ]
  },
  {
   "cell_type": "code",
   "execution_count": 3,
   "metadata": {},
   "outputs": [
    {
     "name": "stdout",
     "output_type": "stream",
     "text": [
      "--2020-04-03 06:07:01--  https://astrostatistics.psu.edu/datasets/censor.dat\n",
      "Resolving astrostatistics.psu.edu (astrostatistics.psu.edu)... 168.62.182.234\n",
      "Connecting to astrostatistics.psu.edu (astrostatistics.psu.edu)|168.62.182.234|:443... connected.\n",
      "WARNING: cannot verify astrostatistics.psu.edu's certificate, issued by ‘CN=InCommon RSA Server CA,OU=InCommon,O=Internet2,L=Ann Arbor,ST=MI,C=US’:\n",
      "  Unable to locally verify the issuer's authority.\n",
      "HTTP request sent, awaiting response... 200 OK\n",
      "Length: 3932 (3.8K)\n",
      "Saving to: ‘censor.dat’\n",
      "\n",
      "censor.dat          100%[===================>]   3.84K  --.-KB/s    in 0s      \n",
      "\n",
      "2020-04-03 06:07:01 (133 MB/s) - ‘censor.dat’ saved [3932/3932]\n",
      "\n"
     ]
    }
   ],
   "source": [
    "!wget --no-check-certificate https://astrostatistics.psu.edu/datasets/censor.dat"
   ]
  },
  {
   "cell_type": "code",
   "execution_count": 4,
   "metadata": {},
   "outputs": [
    {
     "name": "stdout",
     "output_type": "stream",
     "text": [
      "Star     Type  Teff  Ind_Be logN_Be sig_Be  Ind_Li logN_Li\n",
      "\n",
      "BD-103166  1   5320    1    0.50     NaN     1      NaN\n",
      "\n",
      "HD_6434    1   5835    1    1.08    0.10     0      0.8\n",
      "\n",
      "HD_9826    1   6212    1    1.05    0.13     1      2.55\n",
      "\n",
      "HD_10647   1   6143    1    1.19    0.10     1      2.80\n",
      "\n"
     ]
    }
   ],
   "source": [
    "with open('./censor.dat', 'r') as inp:\n",
    "    for i in range(5):\n",
    "        print(inp.readline())"
   ]
  },
  {
   "cell_type": "markdown",
   "metadata": {},
   "source": [
    "We can use numpy's `np.genfromtxt()` function to read the data.  Though it will take a little hand holding."
   ]
  },
  {
   "cell_type": "code",
   "execution_count": 5,
   "metadata": {},
   "outputs": [
    {
     "data": {
      "text/plain": [
       "array([(nan, 1., 5320., 1., 0.5 ,  nan, 1.,  nan),\n",
       "       (nan, 1., 5835., 1., 1.08, 0.1 , 0., 0.8 ),\n",
       "       (nan, 1., 6212., 1., 1.05, 0.13, 1., 2.55),\n",
       "       (nan, 1., 6143., 1., 1.19, 0.1 , 1., 2.8 ),\n",
       "       (nan, 1., 5641., 1., 1.31, 0.13, 1., 1.96)],\n",
       "      dtype=[('Star', '<f8'), ('Type', '<f8'), ('Teff', '<f8'), ('Ind_Be', '<f8'), ('logN_Be', '<f8'), ('sig_Be', '<f8'), ('Ind_Li', '<f8'), ('logN_Li', '<f8')])"
      ]
     },
     "execution_count": 5,
     "metadata": {},
     "output_type": "execute_result"
    }
   ],
   "source": [
    "np.genfromtxt('censor.dat', names=True)[:5]"
   ]
  },
  {
   "cell_type": "markdown",
   "metadata": {},
   "source": [
    "That gets us what we would need, though it takes some further care to parse strings properly, etc.\n",
    "\n",
    "We can also use `pandas`, which works pretty well out of the box."
   ]
  },
  {
   "cell_type": "code",
   "execution_count": 6,
   "metadata": {},
   "outputs": [],
   "source": [
    "import pandas as pd"
   ]
  },
  {
   "cell_type": "code",
   "execution_count": 7,
   "metadata": {},
   "outputs": [
    {
     "data": {
      "text/html": [
       "<div>\n",
       "<style scoped>\n",
       "    .dataframe tbody tr th:only-of-type {\n",
       "        vertical-align: middle;\n",
       "    }\n",
       "\n",
       "    .dataframe tbody tr th {\n",
       "        vertical-align: top;\n",
       "    }\n",
       "\n",
       "    .dataframe thead th {\n",
       "        text-align: right;\n",
       "    }\n",
       "</style>\n",
       "<table border=\"1\" class=\"dataframe\">\n",
       "  <thead>\n",
       "    <tr style=\"text-align: right;\">\n",
       "      <th></th>\n",
       "      <th>Star</th>\n",
       "      <th>Type</th>\n",
       "      <th>Teff</th>\n",
       "      <th>Ind_Be</th>\n",
       "      <th>logN_Be</th>\n",
       "      <th>sig_Be</th>\n",
       "      <th>Ind_Li</th>\n",
       "      <th>logN_Li</th>\n",
       "    </tr>\n",
       "  </thead>\n",
       "  <tbody>\n",
       "    <tr>\n",
       "      <th>0</th>\n",
       "      <td>BD-103166</td>\n",
       "      <td>1</td>\n",
       "      <td>5320</td>\n",
       "      <td>1</td>\n",
       "      <td>0.50</td>\n",
       "      <td>NaN</td>\n",
       "      <td>1</td>\n",
       "      <td>NaN</td>\n",
       "    </tr>\n",
       "    <tr>\n",
       "      <th>1</th>\n",
       "      <td>HD_6434</td>\n",
       "      <td>1</td>\n",
       "      <td>5835</td>\n",
       "      <td>1</td>\n",
       "      <td>1.08</td>\n",
       "      <td>0.10</td>\n",
       "      <td>0</td>\n",
       "      <td>0.80</td>\n",
       "    </tr>\n",
       "    <tr>\n",
       "      <th>2</th>\n",
       "      <td>HD_9826</td>\n",
       "      <td>1</td>\n",
       "      <td>6212</td>\n",
       "      <td>1</td>\n",
       "      <td>1.05</td>\n",
       "      <td>0.13</td>\n",
       "      <td>1</td>\n",
       "      <td>2.55</td>\n",
       "    </tr>\n",
       "    <tr>\n",
       "      <th>3</th>\n",
       "      <td>HD_10647</td>\n",
       "      <td>1</td>\n",
       "      <td>6143</td>\n",
       "      <td>1</td>\n",
       "      <td>1.19</td>\n",
       "      <td>0.10</td>\n",
       "      <td>1</td>\n",
       "      <td>2.80</td>\n",
       "    </tr>\n",
       "    <tr>\n",
       "      <th>4</th>\n",
       "      <td>HD_10697</td>\n",
       "      <td>1</td>\n",
       "      <td>5641</td>\n",
       "      <td>1</td>\n",
       "      <td>1.31</td>\n",
       "      <td>0.13</td>\n",
       "      <td>1</td>\n",
       "      <td>1.96</td>\n",
       "    </tr>\n",
       "    <tr>\n",
       "      <th>...</th>\n",
       "      <td>...</td>\n",
       "      <td>...</td>\n",
       "      <td>...</td>\n",
       "      <td>...</td>\n",
       "      <td>...</td>\n",
       "      <td>...</td>\n",
       "      <td>...</td>\n",
       "      <td>...</td>\n",
       "    </tr>\n",
       "    <tr>\n",
       "      <th>63</th>\n",
       "      <td>HD_85117</td>\n",
       "      <td>2</td>\n",
       "      <td>6167</td>\n",
       "      <td>1</td>\n",
       "      <td>1.11</td>\n",
       "      <td>0.11</td>\n",
       "      <td>1</td>\n",
       "      <td>2.64</td>\n",
       "    </tr>\n",
       "    <tr>\n",
       "      <th>64</th>\n",
       "      <td>HD_189567</td>\n",
       "      <td>2</td>\n",
       "      <td>5765</td>\n",
       "      <td>1</td>\n",
       "      <td>1.06</td>\n",
       "      <td>0.10</td>\n",
       "      <td>0</td>\n",
       "      <td>0.82</td>\n",
       "    </tr>\n",
       "    <tr>\n",
       "      <th>65</th>\n",
       "      <td>HD_192310</td>\n",
       "      <td>2</td>\n",
       "      <td>5069</td>\n",
       "      <td>0</td>\n",
       "      <td>0.60</td>\n",
       "      <td>NaN</td>\n",
       "      <td>0</td>\n",
       "      <td>0.20</td>\n",
       "    </tr>\n",
       "    <tr>\n",
       "      <th>66</th>\n",
       "      <td>HD_211415</td>\n",
       "      <td>2</td>\n",
       "      <td>5890</td>\n",
       "      <td>1</td>\n",
       "      <td>1.12</td>\n",
       "      <td>0.10</td>\n",
       "      <td>1</td>\n",
       "      <td>1.92</td>\n",
       "    </tr>\n",
       "    <tr>\n",
       "      <th>67</th>\n",
       "      <td>HD_222335</td>\n",
       "      <td>2</td>\n",
       "      <td>5260</td>\n",
       "      <td>1</td>\n",
       "      <td>0.66</td>\n",
       "      <td>0.22</td>\n",
       "      <td>0</td>\n",
       "      <td>0.31</td>\n",
       "    </tr>\n",
       "  </tbody>\n",
       "</table>\n",
       "<p>68 rows × 8 columns</p>\n",
       "</div>"
      ],
      "text/plain": [
       "         Star  Type  Teff  Ind_Be  logN_Be  sig_Be  Ind_Li  logN_Li\n",
       "0   BD-103166     1  5320       1     0.50     NaN       1      NaN\n",
       "1     HD_6434     1  5835       1     1.08    0.10       0     0.80\n",
       "2     HD_9826     1  6212       1     1.05    0.13       1     2.55\n",
       "3    HD_10647     1  6143       1     1.19    0.10       1     2.80\n",
       "4    HD_10697     1  5641       1     1.31    0.13       1     1.96\n",
       "..        ...   ...   ...     ...      ...     ...     ...      ...\n",
       "63   HD_85117     2  6167       1     1.11    0.11       1     2.64\n",
       "64  HD_189567     2  5765       1     1.06    0.10       0     0.82\n",
       "65  HD_192310     2  5069       0     0.60     NaN       0     0.20\n",
       "66  HD_211415     2  5890       1     1.12    0.10       1     1.92\n",
       "67  HD_222335     2  5260       1     0.66    0.22       0     0.31\n",
       "\n",
       "[68 rows x 8 columns]"
      ]
     },
     "execution_count": 7,
     "metadata": {},
     "output_type": "execute_result"
    }
   ],
   "source": [
    "df = pd.read_csv('censor.dat', delim_whitespace=True)\n",
    "df"
   ]
  },
  {
   "cell_type": "code",
   "execution_count": 8,
   "metadata": {},
   "outputs": [
    {
     "data": {
      "image/png": "[encoded data removed]",
      "text/plain": [
       "<Figure size 432x288 with 1 Axes>"
      ]
     },
     "metadata": {
      "needs_background": "light"
     },
     "output_type": "display_data"
    }
   ],
   "source": [
    "plt.scatter(df.Teff, df.logN_Be)\n",
    "plt.xlabel(df.Teff.name)\n",
    "plt.ylabel(df.logN_Be.name);"
   ]
  },
  {
   "cell_type": "markdown",
   "metadata": {},
   "source": [
    ">The dataset consists of 39 stars known to host planets (plotted as filled circles) and 29 stars in a control sample (open circles).  Due to internal stellar processes, Be abundances are correlated with stellar mass which is traced by stellar surface temperature (\"effective temperature\" or Teff).  Regression lines of the detections only (top panel) show a slight elevation in Be abundance for planet hosting stars, but this difference evaporates when a Buckley-James regression line is considered that includes the effects of censoring (bottom panel).  "
   ]
  },
  {
   "cell_type": "markdown",
   "metadata": {},
   "source": [
    "# Construct a model"
   ]
  },
  {
   "cell_type": "markdown",
   "metadata": {},
   "source": [
    "We're interested in general trends at the moment, so lets use a stupidly simple model: a line.\n",
    "\n",
    "$$\n",
    "\\hat{y} = mx + b\n",
    "$$"
   ]
  },
  {
   "cell_type": "code",
   "execution_count": 9,
   "metadata": {},
   "outputs": [],
   "source": [
    "def build_linear_model(slope, intercept):\n",
    "    def linear_model(year):\n",
    "        return year * slope + intercept\n",
    "    return linear_model"
   ]
  },
  {
   "cell_type": "markdown",
   "metadata": {},
   "source": [
    "We don't expect global temperatures to exactly follow such a trend, so we need to include a random noise term.  For simplicitly lets assume the random scatter about the line to be normal.  According to this model, we expect actual temperatures to follow:\n",
    "$$\n",
    "y \\sim \\mathrm{N}(\\hat{y}, \\sigma)\n",
    "$$"
   ]
  },
  {
   "cell_type": "markdown",
   "metadata": {},
   "source": [
    "This allows us to construct a likelihood."
   ]
  },
  {
   "cell_type": "code",
   "execution_count": 10,
   "metadata": {},
   "outputs": [],
   "source": [
    "def lnlikelihood(x):\n",
    "    # Unpack the model variables\n",
    "    slope, intercept, sigma_noise = x\n",
    "    \n",
    "    # Build the linear (i.e., \"signal\") portion of the model\n",
    "    linear_model = build_linear_model(slope, intercept)\n",
    "    \n",
    "    # Subtract the model from the data, leaving just the \"noise\" if we've done a proper fit\n",
    "    residuals = df.logN_Be - linear_model(df.Teff)\n",
    "    \n",
    "    # Assess how consistent the residuals are with our model for the noise (normal)\n",
    "    lnlike = np.sum(distributions.norm.logpdf(residuals, loc=0, scale=sigma_noise))\n",
    "    return lnlike"
   ]
  },
  {
   "cell_type": "markdown",
   "metadata": {},
   "source": [
    "## Find the best fit"
   ]
  },
  {
   "cell_type": "markdown",
   "metadata": {},
   "source": [
    "In the future we will sample the posterior distribution.  For now lets just find the maximum likelihood point, which provides us with the best fit parameters.\n",
    "\n",
    "We will use [Powell's method](https://en.wikipedia.org/wiki/Powell%27s_method) to find the point that maximizes the likelihood, but first we need an initial guess to start from. "
   ]
  },
  {
   "cell_type": "code",
   "execution_count": 11,
   "metadata": {},
   "outputs": [],
   "source": [
    "x0 = [.001, 0, 1.]"
   ]
  },
  {
   "cell_type": "markdown",
   "metadata": {},
   "source": [
    "Lets see how bad our initial guess is..."
   ]
  },
  {
   "cell_type": "code",
   "execution_count": 12,
   "metadata": {},
   "outputs": [
    {
     "data": {
      "image/png": "[encoded data removed]",
      "text/plain": [
       "<Figure size 432x288 with 1 Axes>"
      ]
     },
     "metadata": {
      "needs_background": "light"
     },
     "output_type": "display_data"
    }
   ],
   "source": [
    "x0_model = build_linear_model(x0[0], x0[1])\n",
    "teff_grid = np.linspace(min(df.Teff), max(df.Teff))\n",
    "\n",
    "plt.scatter(df.Teff, df.logN_Be, label='data')\n",
    "plt.plot(teff_grid, x0_model(teff_grid), color='k', lw=2, label='initial guess')\n",
    "plt.xlabel(df.Teff.name)\n",
    "plt.ylabel(df.logN_Be.name);\n",
    "plt.legend();"
   ]
  },
  {
   "cell_type": "markdown",
   "metadata": {},
   "source": [
    "Comically bad...\n",
    "\n",
    "Now lets run the maximization algorithm."
   ]
  },
  {
   "cell_type": "code",
   "execution_count": 13,
   "metadata": {},
   "outputs": [],
   "source": [
    "sol = minimize(lambda x: -lnlikelihood(x), x0, method='powell')\n",
    "best_fit_params = sol.x"
   ]
  },
  {
   "cell_type": "markdown",
   "metadata": {},
   "source": [
    "..and take a look at our best fit."
   ]
  },
  {
   "cell_type": "code",
   "execution_count": 14,
   "metadata": {},
   "outputs": [
    {
     "name": "stdout",
     "output_type": "stream",
     "text": [
      "Best fit slope of 0.000302485.\n"
     ]
    },
    {
     "data": {
      "image/png": "[encoded data removed]",
      "text/plain": [
       "<Figure size 432x288 with 1 Axes>"
      ]
     },
     "metadata": {
      "needs_background": "light"
     },
     "output_type": "display_data"
    }
   ],
   "source": [
    "best_fit_model = build_linear_model(best_fit_params[0], best_fit_params[1])\n",
    "\n",
    "plt.scatter(df.Teff, df.logN_Be, label='data')\n",
    "plt.plot(teff_grid, best_fit_model(teff_grid), color='k', lw=2)\n",
    "plt.xlabel(df.Teff.name)\n",
    "plt.ylabel(df.logN_Be.name);\n",
    "\n",
    "print(\"Best fit slope of {:g}.\".format(best_fit_params[0]))"
   ]
  },
  {
   "cell_type": "markdown",
   "metadata": {},
   "source": [
    "# Check the fit"
   ]
  },
  {
   "cell_type": "code",
   "execution_count": 15,
   "metadata": {},
   "outputs": [
    {
     "name": "stderr",
     "output_type": "stream",
     "text": [
      "/opt/conda/lib/python3.7/site-packages/ipykernel_launcher.py:4: MatplotlibDeprecationWarning: \n",
      "The 'normed' kwarg was deprecated in Matplotlib 2.1 and will be removed in 3.1. Use 'density' instead.\n",
      "  after removing the cwd from sys.path.\n"
     ]
    },
    {
     "data": {
      "image/png": "[encoded data removed]",
      "text/plain": [
       "<Figure size 432x288 with 1 Axes>"
      ]
     },
     "metadata": {
      "needs_background": "light"
     },
     "output_type": "display_data"
    }
   ],
   "source": [
    "xs = np.linspace(-1.5, 1.5, 50)\n",
    "residual_temps = df.logN_Be - best_fit_model(df.Teff)\n",
    "\n",
    "plt.hist(residual_temps, bins=10, normed=True);\n",
    "plt.plot(xs, distributions.norm.pdf(xs, scale=best_fit_params[2]))\n",
    "plt.xlabel('average \"residual\"');"
   ]
  },
  {
   "cell_type": "code",
   "execution_count": 16,
   "metadata": {},
   "outputs": [
    {
     "data": {
      "text/plain": [
       "Text(0, 0.5, 'average \"residual\"')"
      ]
     },
     "execution_count": 16,
     "metadata": {},
     "output_type": "execute_result"
    },
    {
     "data": {
      "image/png": "[encoded data removed]",
      "text/plain": [
       "<Figure size 432x288 with 1 Axes>"
      ]
     },
     "metadata": {
      "needs_background": "light"
     },
     "output_type": "display_data"
    }
   ],
   "source": [
    "xs = np.linspace(1880, 2017, 50)\n",
    "\n",
    "plt.scatter(df.Teff, residual_temps, color='k', lw=2)\n",
    "\n",
    "plt.xlabel(df.Teff.name)\n",
    "plt.ylabel('average \"residual\"')"
   ]
  },
  {
   "cell_type": "code",
   "execution_count": null,
   "metadata": {},
   "outputs": [],
   "source": []
  }
 ],
 "metadata": {
  "kernelspec": {
   "display_name": "Python 3",
   "language": "python",
   "name": "python3"
  },
  "language_info": {
   "codemirror_mode": {
    "name": "ipython",
    "version": 3
   },
   "file_extension": ".py",
   "mimetype": "text/x-python",
   "name": "python",
   "nbconvert_exporter": "python",
   "pygments_lexer": "ipython3",
   "version": "3.7.6"
  }
 },
 "nbformat": 4,
 "nbformat_minor": 2
}
