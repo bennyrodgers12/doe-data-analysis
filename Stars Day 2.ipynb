{
 "cells": [
  {
   "cell_type": "code",
   "execution_count": 2,
   "metadata": {},
   "outputs": [],
   "source": [
    "import numpy as np\n",
    "import matplotlib.pyplot as plt"
   ]
  },
  {
   "cell_type": "code",
   "execution_count": 3,
   "metadata": {},
   "outputs": [],
   "source": [
    "from scipy.stats import distributions\n",
    "from scipy.optimize import minimize"
   ]
  },
  {
   "cell_type": "code",
   "execution_count": 4,
   "metadata": {},
   "outputs": [
    {
     "name": "stdout",
     "output_type": "stream",
     "text": [
      "--2020-04-02 20:34:09--  https://astrostatistics.psu.edu/datasets/censor.dat\n",
      "Resolving astrostatistics.psu.edu (astrostatistics.psu.edu)... 168.62.182.234\n",
      "Connecting to astrostatistics.psu.edu (astrostatistics.psu.edu)|168.62.182.234|:443... connected.\n",
      "WARNING: cannot verify astrostatistics.psu.edu's certificate, issued by ‘CN=InCommon RSA Server CA,OU=InCommon,O=Internet2,L=Ann Arbor,ST=MI,C=US’:\n",
      "  Unable to locally verify the issuer's authority.\n",
      "HTTP request sent, awaiting response... 200 OK\n",
      "Length: 3932 (3.8K)\n",
      "Saving to: ‘censor.dat’\n",
      "\n",
      "censor.dat          100%[===================>]   3.84K  --.-KB/s    in 0s      \n",
      "\n",
      "2020-04-02 20:34:10 (25.1 MB/s) - ‘censor.dat’ saved [3932/3932]\n",
      "\n"
     ]
    }
   ],
   "source": [
    "!wget --no-check-certificate https://astrostatistics.psu.edu/datasets/censor.dat"
   ]
  },
  {
   "cell_type": "code",
   "execution_count": 5,
   "metadata": {},
   "outputs": [
    {
     "name": "stdout",
     "output_type": "stream",
     "text": [
      "Star     Type  Teff  Ind_Be logN_Be sig_Be  Ind_Li logN_Li\n",
      "\n",
      "BD-103166  1   5320    1    0.50     NaN     1      NaN\n",
      "\n",
      "HD_6434    1   5835    1    1.08    0.10     0      0.8\n",
      "\n",
      "HD_9826    1   6212    1    1.05    0.13     1      2.55\n",
      "\n",
      "HD_10647   1   6143    1    1.19    0.10     1      2.80\n",
      "\n"
     ]
    }
   ],
   "source": [
    "with open('./censor.dat', 'r') as inp:\n",
    "    for i in range(5):\n",
    "        print(inp.readline())"
   ]
  },
  {
   "cell_type": "code",
   "execution_count": 6,
   "metadata": {},
   "outputs": [
    {
     "name": "stdout",
     "output_type": "stream",
     "text": [
      "Star     Type  Teff  Ind_Be logN_Be sig_Be  Ind_Li logN_Li\r\n",
      "BD-103166  1   5320    1    0.50     NaN     1      NaN\r\n",
      "HD_6434    1   5835    1    1.08    0.10     0      0.8\r\n",
      "HD_9826    1   6212    1    1.05    0.13     1      2.55\r\n",
      "HD_10647   1   6143    1    1.19    0.10     1      2.80\r\n",
      "HD_10697   1   5641    1    1.31    0.13     1      1.96\r\n",
      "HD_12661   1   5702    1    1.13    0.13     0      0.98\r\n",
      "HD_13445   1   5613    0    0.40     NaN     0     -0.12\r\n",
      "HD_16141   1   5801    1    1.17    0.13     1      1.11\r\n",
      "HD_17051   1   6252    1    1.03    0.13     1      2.66\r\n"
     ]
    }
   ],
   "source": [
    "!head censor.dat"
   ]
  },
  {
   "cell_type": "code",
   "execution_count": 8,
   "metadata": {},
   "outputs": [
    {
     "data": {
      "text/plain": [
       "array([(nan, 1., 5320., 1.,  0.5 ,  nan, 1.,   nan),\n",
       "       (nan, 1., 5835., 1.,  1.08, 0.1 , 0.,  0.8 ),\n",
       "       (nan, 1., 6212., 1.,  1.05, 0.13, 1.,  2.55),\n",
       "       (nan, 1., 6143., 1.,  1.19, 0.1 , 1.,  2.8 ),\n",
       "       (nan, 1., 5641., 1.,  1.31, 0.13, 1.,  1.96),\n",
       "       (nan, 1., 5702., 1.,  1.13, 0.13, 0.,  0.98),\n",
       "       (nan, 1., 5613., 0.,  0.4 ,  nan, 0., -0.12),\n",
       "       (nan, 1., 5801., 1.,  1.17, 0.13, 1.,  1.11),\n",
       "       (nan, 1., 6252., 1.,  1.03, 0.13, 1.,  2.66),\n",
       "       (nan, 1., 6109., 1.,  0.93, 0.12, 1.,  1.99),\n",
       "       (nan, 1., 5073., 1.,  0.77,  nan, 0.,  0.25),\n",
       "       (nan, 1., 4825., 0.,  0.3 ,  nan, 0., -0.47),\n",
       "       (nan, 1., 5674., 0., -0.1 ,  nan, 0.,  0.61),\n",
       "       (nan, 1., 5268., 0.,  0.8 ,  nan, 0., -0.02),\n",
       "       (nan, 1., 6103., 1.,  1.25, 0.11, 1.,  2.88),\n",
       "       (nan, 1., 6143., 1.,  1.36,  nan, 1.,  2.85),\n",
       "       (nan, 1., 6016., 1.,  1.27,  nan, 1.,  2.51),\n",
       "       (nan, 1., 5821., 1.,  1.19, 0.11, 1.,  1.34),\n",
       "       (nan, 1., 5924., 1.,  1.23, 0.11, 1.,  1.83),\n",
       "       (nan, 1., 6248., 1.,  0.99, 0.1 , 1.,  2.33),\n",
       "       (nan, 1., 5884., 1.,  0.82, 0.11, 1.,  2.2 ),\n",
       "       (nan, 1., 5560., 1.,  0.86, 0.13, 1.,  1.88),\n",
       "       (nan, 1., 6339., 0.,  0.25,  nan, 1.,   nan),\n",
       "       (nan, 1., 6075., 1.,  1.33, 0.11, 1.,  2.65),\n",
       "       (nan, 1., 5392., 1.,  0.95, 0.13, 0.,  0.13),\n",
       "       (nan, 1., 5776., 1.,  1.22, 0.11, 0.,  0.74),\n",
       "       (nan, 1., 5853., 1.,  1.11, 0.12, 1.,  1.46),\n",
       "       (nan, 1., 5311., 0.,  0.65,  nan, 0.,  0.03),\n",
       "       (nan, 1., 6299., 0., -0.4 ,  nan, 0.,  1.16),\n",
       "       (nan, 1., 6260., 1.,  1.08, 0.1 , 1.,  2.65),\n",
       "       (nan, 1., 5845., 1.,  1.08, 0.12, 1.,  1.21),\n",
       "       (nan, 1., 4947., 0.,  0.9 ,  nan, 0., -0.39),\n",
       "       (nan, 1., 5842., 1.,  1.15, 0.12, 1.,  1.47),\n",
       "       (nan, 1., 5752., 1.,  1.04, 0.11, 1.,  1.04),\n",
       "       (nan, 1., 6117., 1.,  1.24, 0.11, 1.,  2.7 ),\n",
       "       (nan, 1., 5532., 1.,  0.91, 0.13, 0.,  0.3 ),\n",
       "       (nan, 1., 5804., 1.,  1.02, 0.12, 1.,  1.3 ),\n",
       "       (nan, 1., 5646., 1.,  0.96, 0.13, 0.,  0.4 ),\n",
       "       (nan, 1., 5843., 1.,  1.14, 0.11, 0.,  0.59),\n",
       "       (nan, 2., 5447., 1.,  0.8 , 0.15, 0.,  0.2 ),\n",
       "       (nan, 2., 5768., 1.,  1.14, 0.13, 0.,  0.51),\n",
       "       (nan, 2., 5956., 1.,  1.15, 0.11, 1.,  2.37),\n",
       "       (nan, 2., 5948., 1.,  1.02, 0.12, 1.,  2.41),\n",
       "       (nan, 2., 5878., 1.,  0.75, 0.11, 0.,  1.09),\n",
       "       (nan, 2., 6140., 1.,  1.17, 0.1 , 1.,  2.91),\n",
       "       (nan, 2., 5344., 1.,  0.83, 0.11, 0.,  0.41),\n",
       "       (nan, 2., 5368., 1.,  0.8 , 0.11, 0.,  0.44),\n",
       "       (nan, 2., 6275., 1.,  1.01, 0.1 , 1.,  2.13),\n",
       "       (nan, 2., 5733., 0., -0.09,  nan, 0.,  0.97),\n",
       "       (nan, 2., 5444., 1.,  0.91, 0.11, 0.,  0.52),\n",
       "       (nan, 2., 5843., 1.,  0.36, 0.11, 0.,  1.07),\n",
       "       (nan, 2., 5074., 0.,  0.15,  nan, 1.,  1.24),\n",
       "       (nan, 2., 5176., 0.,  0.7 ,  nan, 0.,  0.4 ),\n",
       "       (nan, 2., 5126., 1.,  0.76, 0.13, 0.,  0.17),\n",
       "       (nan, 2., 5768., 1.,  1.16, 0.11, 1.,  2.44),\n",
       "       (nan, 2., 5479., 1.,  0.99, 0.12, 1.,  1.67),\n",
       "       (nan, 2., 5752., 1.,  1.02, 0.11, 1.,  1.64),\n",
       "       (nan, 2., 5633., 1.,  1.08, 0.11, 1.,  2.34),\n",
       "       (nan, 2., 5594., 1.,  0.94, 0.11, 1.,  2.3 ),\n",
       "       (nan, 2., 5410., 1.,  0.79, 0.11, 0.,  0.47),\n",
       "       (nan, 2., 5242., 1.,  0.7 , 0.13, 0.,  0.48),\n",
       "       (nan, 2., 5000., 1.,  0.7 , 0.31, 1.,  1.72),\n",
       "       (nan, 2., 5803., 1.,  1.02, 0.11, 1.,  1.88),\n",
       "       (nan, 2., 6167., 1.,  1.11, 0.11, 1.,  2.64),\n",
       "       (nan, 2., 5765., 1.,  1.06, 0.1 , 0.,  0.82),\n",
       "       (nan, 2., 5069., 0.,  0.6 ,  nan, 0.,  0.2 ),\n",
       "       (nan, 2., 5890., 1.,  1.12, 0.1 , 1.,  1.92),\n",
       "       (nan, 2., 5260., 1.,  0.66, 0.22, 0.,  0.31)],\n",
       "      dtype=[('Star', '<f8'), ('Type', '<f8'), ('Teff', '<f8'), ('Ind_Be', '<f8'), ('logN_Be', '<f8'), ('sig_Be', '<f8'), ('Ind_Li', '<f8'), ('logN_Li', '<f8')])"
      ]
     },
     "execution_count": 8,
     "metadata": {},
     "output_type": "execute_result"
    }
   ],
   "source": [
    "np.genfromtxt('./censor.dat', names= True)"
   ]
  },
  {
   "cell_type": "code",
   "execution_count": 9,
   "metadata": {},
   "outputs": [],
   "source": [
    "import pandas as pd #handy for reading in files"
   ]
  },
  {
   "cell_type": "code",
   "execution_count": 11,
   "metadata": {},
   "outputs": [],
   "source": [
    "df = pd.read_csv('censor.dat', delim_whitespace=True)"
   ]
  },
  {
   "cell_type": "code",
   "execution_count": 14,
   "metadata": {},
   "outputs": [
    {
     "data": {
      "text/plain": [
       "<matplotlib.collections.PathCollection at 0x7fa81b522110>"
      ]
     },
     "execution_count": 14,
     "metadata": {},
     "output_type": "execute_result"
    },
    {
     "data": {
      "image/png": "[encoded data removed]",
      "text/plain": [
       "<Figure size 432x288 with 1 Axes>"
      ]
     },
     "metadata": {
      "needs_background": "light"
     },
     "output_type": "display_data"
    }
   ],
   "source": [
    "plt.scatter(df.Teff, df.logN_Be)"
   ]
  },
  {
   "cell_type": "code",
   "execution_count": 15,
   "metadata": {},
   "outputs": [],
   "source": [
    "def build_linear_model(slope, intercept):\n",
    "    def linear_model(length):\n",
    "        return length * slope + intercept\n",
    "    return linear_model"
   ]
  },
  {
   "cell_type": "code",
   "execution_count": 20,
   "metadata": {},
   "outputs": [],
   "source": [
    "def lnlikelihood(x):\n",
    "    slope, intercept, sigma_noise = x\n",
    "    \n",
    "    linear_model = build_linear_model(slope, intercept)\n",
    "    residuals = df.logN_Be - linear_model(df.Teff)\n",
    "    \n",
    "    lnlike = np.sum(distributions.norm.logpdf(residuals, loc=0, scale=sigma_noise))\n",
    "    return lnlike"
   ]
  },
  {
   "cell_type": "code",
   "execution_count": 21,
   "metadata": {},
   "outputs": [],
   "source": [
    "x0 = [.001, 0 , 1]"
   ]
  },
  {
   "cell_type": "code",
   "execution_count": 23,
   "metadata": {},
   "outputs": [],
   "source": [
    "sol = minimize(lambda x: -lnlikelihood(x), x0, method='powell')"
   ]
  },
  {
   "cell_type": "code",
   "execution_count": 24,
   "metadata": {},
   "outputs": [
    {
     "data": {
      "text/plain": [
       "   direc: array([[ 8.13258387e-04, -4.64217455e+00, -4.26019868e-02],\n",
       "       [ 0.00000000e+00,  1.00000000e+00,  0.00000000e+00],\n",
       "       [-1.39859538e-05,  7.98334692e-02, -2.17639097e-02]])\n",
       "     fun: 21.80216425473233\n",
       " message: 'Optimization terminated successfully.'\n",
       "    nfev: 594\n",
       "     nit: 15\n",
       "  status: 0\n",
       " success: True\n",
       "       x: array([ 3.02484977e-04, -8.35884541e-01,  3.33431734e-01])"
      ]
     },
     "execution_count": 24,
     "metadata": {},
     "output_type": "execute_result"
    }
   ],
   "source": [
    "sol"
   ]
  },
  {
   "cell_type": "code",
   "execution_count": 25,
   "metadata": {},
   "outputs": [],
   "source": [
    "best_fit_params = sol.x\n",
    "best_fit_model = build_linear_model(best_fit_params[0], best_fit_params[1])"
   ]
  },
  {
   "cell_type": "code",
   "execution_count": 26,
   "metadata": {},
   "outputs": [
    {
     "data": {
      "text/plain": [
       "[<matplotlib.lines.Line2D at 0x7fa819d4ee50>]"
      ]
     },
     "execution_count": 26,
     "metadata": {},
     "output_type": "execute_result"
    },
    {
     "data": {
      "image/png": "[encoded data removed]",
      "text/plain": [
       "<Figure size 432x288 with 1 Axes>"
      ]
     },
     "metadata": {
      "needs_background": "light"
     },
     "output_type": "display_data"
    }
   ],
   "source": [
    "plt.scatter(df.Teff, df.logN_Be)\n",
    "x_grid = np.linspace(min(df.Teff), max(df.Teff))\n",
    "plt.plot(x_grid, best_fit_model(x_grid))"
   ]
  },
  {
   "cell_type": "code",
   "execution_count": null,
   "metadata": {},
   "outputs": [],
   "source": []
  }
 ],
 "metadata": {
  "kernelspec": {
   "display_name": "Python 3",
   "language": "python",
   "name": "python3"
  },
  "language_info": {
   "codemirror_mode": {
    "name": "ipython",
    "version": 3
   },
   "file_extension": ".py",
   "mimetype": "text/x-python",
   "name": "python",
   "nbconvert_exporter": "python",
   "pygments_lexer": "ipython3",
   "version": "3.7.6"
  }
 },
 "nbformat": 4,
 "nbformat_minor": 4
}
