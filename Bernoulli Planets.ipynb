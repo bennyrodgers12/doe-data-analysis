{
 "cells": [
  {
   "cell_type": "code",
   "execution_count": 1,
   "metadata": {},
   "outputs": [],
   "source": [
    "import numpy as np\n",
    "import matplotlib.pyplot as plt"
   ]
  },
  {
   "cell_type": "code",
   "execution_count": 2,
   "metadata": {},
   "outputs": [
    {
     "name": "stdout",
     "output_type": "stream",
     "text": [
      "--2020-04-21 18:37:57--  https://astrostatistics.psu.edu/datasets/censor.dat\n",
      "Resolving astrostatistics.psu.edu (astrostatistics.psu.edu)... 168.62.182.234\n",
      "Connecting to astrostatistics.psu.edu (astrostatistics.psu.edu)|168.62.182.234|:443... connected.\n",
      "WARNING: cannot verify astrostatistics.psu.edu's certificate, issued by ‘CN=InCommon RSA Server CA,OU=InCommon,O=Internet2,L=Ann Arbor,ST=MI,C=US’:\n",
      "  Unable to locally verify the issuer's authority.\n",
      "HTTP request sent, awaiting response... 200 OK\n",
      "Length: 3932 (3.8K)\n",
      "Saving to: ‘censor.dat.1’\n",
      "\n",
      "censor.dat.1        100%[===================>]   3.84K  --.-KB/s    in 0.001s  \n",
      "\n",
      "2020-04-21 18:37:57 (6.53 MB/s) - ‘censor.dat.1’ saved [3932/3932]\n",
      "\n"
     ]
    }
   ],
   "source": [
    "!wget --no-check-certificate https://astrostatistics.psu.edu/datasets/censor.dat"
   ]
  },
  {
   "cell_type": "code",
   "execution_count": 3,
   "metadata": {},
   "outputs": [],
   "source": [
    "import pandas as pd"
   ]
  },
  {
   "cell_type": "code",
   "execution_count": 4,
   "metadata": {},
   "outputs": [
    {
     "data": {
      "text/html": [
       "<div>\n",
       "<style scoped>\n",
       "    .dataframe tbody tr th:only-of-type {\n",
       "        vertical-align: middle;\n",
       "    }\n",
       "\n",
       "    .dataframe tbody tr th {\n",
       "        vertical-align: top;\n",
       "    }\n",
       "\n",
       "    .dataframe thead th {\n",
       "        text-align: right;\n",
       "    }\n",
       "</style>\n",
       "<table border=\"1\" class=\"dataframe\">\n",
       "  <thead>\n",
       "    <tr style=\"text-align: right;\">\n",
       "      <th></th>\n",
       "      <th>Star</th>\n",
       "      <th>Type</th>\n",
       "      <th>Teff</th>\n",
       "      <th>Ind_Be</th>\n",
       "      <th>logN_Be</th>\n",
       "      <th>sig_Be</th>\n",
       "      <th>Ind_Li</th>\n",
       "      <th>logN_Li</th>\n",
       "    </tr>\n",
       "  </thead>\n",
       "  <tbody>\n",
       "    <tr>\n",
       "      <th>0</th>\n",
       "      <td>BD-103166</td>\n",
       "      <td>1</td>\n",
       "      <td>5320</td>\n",
       "      <td>1</td>\n",
       "      <td>0.50</td>\n",
       "      <td>NaN</td>\n",
       "      <td>1</td>\n",
       "      <td>NaN</td>\n",
       "    </tr>\n",
       "    <tr>\n",
       "      <th>1</th>\n",
       "      <td>HD_6434</td>\n",
       "      <td>1</td>\n",
       "      <td>5835</td>\n",
       "      <td>1</td>\n",
       "      <td>1.08</td>\n",
       "      <td>0.10</td>\n",
       "      <td>0</td>\n",
       "      <td>0.80</td>\n",
       "    </tr>\n",
       "    <tr>\n",
       "      <th>2</th>\n",
       "      <td>HD_9826</td>\n",
       "      <td>1</td>\n",
       "      <td>6212</td>\n",
       "      <td>1</td>\n",
       "      <td>1.05</td>\n",
       "      <td>0.13</td>\n",
       "      <td>1</td>\n",
       "      <td>2.55</td>\n",
       "    </tr>\n",
       "    <tr>\n",
       "      <th>3</th>\n",
       "      <td>HD_10647</td>\n",
       "      <td>1</td>\n",
       "      <td>6143</td>\n",
       "      <td>1</td>\n",
       "      <td>1.19</td>\n",
       "      <td>0.10</td>\n",
       "      <td>1</td>\n",
       "      <td>2.80</td>\n",
       "    </tr>\n",
       "    <tr>\n",
       "      <th>4</th>\n",
       "      <td>HD_10697</td>\n",
       "      <td>1</td>\n",
       "      <td>5641</td>\n",
       "      <td>1</td>\n",
       "      <td>1.31</td>\n",
       "      <td>0.13</td>\n",
       "      <td>1</td>\n",
       "      <td>1.96</td>\n",
       "    </tr>\n",
       "    <tr>\n",
       "      <th>...</th>\n",
       "      <td>...</td>\n",
       "      <td>...</td>\n",
       "      <td>...</td>\n",
       "      <td>...</td>\n",
       "      <td>...</td>\n",
       "      <td>...</td>\n",
       "      <td>...</td>\n",
       "      <td>...</td>\n",
       "    </tr>\n",
       "    <tr>\n",
       "      <th>63</th>\n",
       "      <td>HD_85117</td>\n",
       "      <td>2</td>\n",
       "      <td>6167</td>\n",
       "      <td>1</td>\n",
       "      <td>1.11</td>\n",
       "      <td>0.11</td>\n",
       "      <td>1</td>\n",
       "      <td>2.64</td>\n",
       "    </tr>\n",
       "    <tr>\n",
       "      <th>64</th>\n",
       "      <td>HD_189567</td>\n",
       "      <td>2</td>\n",
       "      <td>5765</td>\n",
       "      <td>1</td>\n",
       "      <td>1.06</td>\n",
       "      <td>0.10</td>\n",
       "      <td>0</td>\n",
       "      <td>0.82</td>\n",
       "    </tr>\n",
       "    <tr>\n",
       "      <th>65</th>\n",
       "      <td>HD_192310</td>\n",
       "      <td>2</td>\n",
       "      <td>5069</td>\n",
       "      <td>0</td>\n",
       "      <td>0.60</td>\n",
       "      <td>NaN</td>\n",
       "      <td>0</td>\n",
       "      <td>0.20</td>\n",
       "    </tr>\n",
       "    <tr>\n",
       "      <th>66</th>\n",
       "      <td>HD_211415</td>\n",
       "      <td>2</td>\n",
       "      <td>5890</td>\n",
       "      <td>1</td>\n",
       "      <td>1.12</td>\n",
       "      <td>0.10</td>\n",
       "      <td>1</td>\n",
       "      <td>1.92</td>\n",
       "    </tr>\n",
       "    <tr>\n",
       "      <th>67</th>\n",
       "      <td>HD_222335</td>\n",
       "      <td>2</td>\n",
       "      <td>5260</td>\n",
       "      <td>1</td>\n",
       "      <td>0.66</td>\n",
       "      <td>0.22</td>\n",
       "      <td>0</td>\n",
       "      <td>0.31</td>\n",
       "    </tr>\n",
       "  </tbody>\n",
       "</table>\n",
       "<p>68 rows × 8 columns</p>\n",
       "</div>"
      ],
      "text/plain": [
       "         Star  Type  Teff  Ind_Be  logN_Be  sig_Be  Ind_Li  logN_Li\n",
       "0   BD-103166     1  5320       1     0.50     NaN       1      NaN\n",
       "1     HD_6434     1  5835       1     1.08    0.10       0     0.80\n",
       "2     HD_9826     1  6212       1     1.05    0.13       1     2.55\n",
       "3    HD_10647     1  6143       1     1.19    0.10       1     2.80\n",
       "4    HD_10697     1  5641       1     1.31    0.13       1     1.96\n",
       "..        ...   ...   ...     ...      ...     ...     ...      ...\n",
       "63   HD_85117     2  6167       1     1.11    0.11       1     2.64\n",
       "64  HD_189567     2  5765       1     1.06    0.10       0     0.82\n",
       "65  HD_192310     2  5069       0     0.60     NaN       0     0.20\n",
       "66  HD_211415     2  5890       1     1.12    0.10       1     1.92\n",
       "67  HD_222335     2  5260       1     0.66    0.22       0     0.31\n",
       "\n",
       "[68 rows x 8 columns]"
      ]
     },
     "execution_count": 4,
     "metadata": {},
     "output_type": "execute_result"
    }
   ],
   "source": [
    "df = pd.read_csv('./censor.dat', delim_whitespace=True)\n",
    "df"
   ]
  },
  {
   "cell_type": "code",
   "execution_count": 5,
   "metadata": {},
   "outputs": [],
   "source": [
    "from scipy.stats.distributions import beta"
   ]
  },
  {
   "cell_type": "code",
   "execution_count": 6,
   "metadata": {},
   "outputs": [
    {
     "data": {
      "text/plain": [
       "68"
      ]
     },
     "execution_count": 6,
     "metadata": {},
     "output_type": "execute_result"
    }
   ],
   "source": [
    "np.count_nonzero(df.Type == 1)\n",
    "len(df)"
   ]
  },
  {
   "cell_type": "code",
   "execution_count": 10,
   "metadata": {},
   "outputs": [],
   "source": [
    "training_size = 0.8\n",
    "\n",
    "training_sel = np.random.choice((True, False), p=(training_size, 1-training_size), size=len(df))"
   ]
  },
  {
   "cell_type": "code",
   "execution_count": 11,
   "metadata": {},
   "outputs": [],
   "source": [
    "training_data = df[training_sel]\n",
    "validation_data = df[~training_sel]"
   ]
  },
  {
   "cell_type": "code",
   "execution_count": 12,
   "metadata": {},
   "outputs": [
    {
     "name": "stdout",
     "output_type": "stream",
     "text": [
      "56 12\n"
     ]
    }
   ],
   "source": [
    "print(len(training_data), len(validation_data))"
   ]
  },
  {
   "cell_type": "code",
   "execution_count": 13,
   "metadata": {},
   "outputs": [],
   "source": [
    "N = len(training_data)\n",
    "z = 0\n",
    "for i in range(N):\n",
    "    if training_data['Type'].iloc[i] == 1:\n",
    "        z += 1"
   ]
  },
  {
   "cell_type": "code",
   "execution_count": 14,
   "metadata": {},
   "outputs": [],
   "source": [
    "likelihood = np.linspace(0,1,100)"
   ]
  },
  {
   "cell_type": "code",
   "execution_count": 15,
   "metadata": {},
   "outputs": [],
   "source": [
    "def plot_beta_dist(a=1, b=1, **kwarg):\n",
    "    plt.plot(likelihood, beta.pdf(likelihood, a, b))\n",
    "    plt.xlim(0,1)\n",
    "    plt.ylim(0,3)\n",
    "    #plt.xlabel(r'$\\likelihood$')\n",
    "    #plt.ylabel(r'$p(\\likelihood|a={}, b={})$'.format(a,b))"
   ]
  },
  {
   "cell_type": "code",
   "execution_count": 16,
   "metadata": {},
   "outputs": [
    {
     "data": {
      "text/plain": [
       "Text(0.5, 1.0, 'prior')"
      ]
     },
     "execution_count": 16,
     "metadata": {},
     "output_type": "execute_result"
    },
    {
     "data": {
      "image/png": "[encoded data removed]",
      "text/plain": [
       "<Figure size 432x288 with 1 Axes>"
      ]
     },
     "metadata": {
      "needs_background": "light"
     },
     "output_type": "display_data"
    }
   ],
   "source": [
    "a = 1\n",
    "b = 1\n",
    "\n",
    "N = 0\n",
    "z = 0\n",
    "\n",
    "plot_beta_dist(z + a, N - z + b, label='prior')\n",
    "plt.title('prior')"
   ]
  },
  {
   "cell_type": "code",
   "execution_count": 18,
   "metadata": {},
   "outputs": [
    {
     "data": {
      "image/png": "[encoded data removed]",
      "text/plain": [
       "<Figure size 432x288 with 1 Axes>"
      ]
     },
     "metadata": {
      "needs_background": "light"
     },
     "output_type": "display_data"
    }
   ],
   "source": [
    "a = 1\n",
    "b = 1\n",
    "\n",
    "N = 0\n",
    "z = 0\n",
    "\n",
    "plot_beta_dist(z + a, N - z + b, label='prior')\n",
    "\n",
    "N = len(training_data)\n",
    "z = 0  #initialize z\n",
    "for i in range(N):\n",
    "    if training_data['Type'].iloc[i] == 1:\n",
    "        z += 1\n",
    "\n",
    "plot_beta_dist(z + a, N - z + b, label='N={}, z={}'.format(N, z))\n"
   ]
  },
  {
   "cell_type": "code",
   "execution_count": 19,
   "metadata": {},
   "outputs": [
    {
     "name": "stdout",
     "output_type": "stream",
     "text": [
      "56 31\n"
     ]
    }
   ],
   "source": [
    "print(N, z)"
   ]
  },
  {
   "cell_type": "code",
   "execution_count": 21,
   "metadata": {},
   "outputs": [
    {
     "data": {
      "text/plain": [
       "(0, 7)"
      ]
     },
     "execution_count": 21,
     "metadata": {},
     "output_type": "execute_result"
    },
    {
     "data": {
      "image/png": "[encoded data removed]",
      "text/plain": [
       "<Figure size 432x288 with 1 Axes>"
      ]
     },
     "metadata": {
      "needs_background": "light"
     },
     "output_type": "display_data"
    }
   ],
   "source": [
    "plot_beta_dist(z + a, N - z + b, label='N={}, z={}'.format(N, z))\n",
    "plt.axvline( z/N  , ls='--', color='k')\n",
    "plt.ylim(0,7)"
   ]
  },
  {
   "cell_type": "code",
   "execution_count": null,
   "metadata": {},
   "outputs": [],
   "source": []
  }
 ],
 "metadata": {
  "kernelspec": {
   "display_name": "Python 3",
   "language": "python",
   "name": "python3"
  },
  "language_info": {
   "codemirror_mode": {
    "name": "ipython",
    "version": 3
   },
   "file_extension": ".py",
   "mimetype": "text/x-python",
   "name": "python",
   "nbconvert_exporter": "python",
   "pygments_lexer": "ipython3",
   "version": "3.7.6"
  }
 },
 "nbformat": 4,
 "nbformat_minor": 4
}
