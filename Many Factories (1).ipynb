{
 "cells": [
  {
   "cell_type": "code",
   "execution_count": 1,
   "metadata": {},
   "outputs": [],
   "source": [
    "import numpy as np\n",
    "import matplotlib.pyplot as plt\n",
    "\n",
    "import pymc3 as pm"
   ]
  },
  {
   "cell_type": "code",
   "execution_count": 4,
   "metadata": {},
   "outputs": [],
   "source": [
    "data = np.genfromtxt('two_factory_data.txt', names=True)"
   ]
  },
  {
   "cell_type": "code",
   "execution_count": 5,
   "metadata": {},
   "outputs": [
    {
     "data": {
      "image/png": "[encoded data removed]",
      "text/plain": [
       "<Figure size 432x288 with 1 Axes>"
      ]
     },
     "metadata": {
      "needs_background": "light"
     },
     "output_type": "display_data"
    }
   ],
   "source": [
    "plt.hist(data['z'], bins=10);"
   ]
  },
  {
   "cell_type": "code",
   "execution_count": 6,
   "metadata": {},
   "outputs": [
    {
     "ename": "SyntaxError",
     "evalue": "invalid syntax (<ipython-input-6-bf418286625f>, line 8)",
     "output_type": "error",
     "traceback": [
      "\u001b[0;36m  File \u001b[0;32m\"<ipython-input-6-bf418286625f>\"\u001b[0;36m, line \u001b[0;32m8\u001b[0m\n\u001b[0;31m    omega = pm.Beta('omega', 2,2, shape=2, tesval=[0.2,0.6])\u001b[0m\n\u001b[0m        ^\u001b[0m\n\u001b[0;31mSyntaxError\u001b[0m\u001b[0;31m:\u001b[0m invalid syntax\n"
     ]
    }
   ],
   "source": [
    "k=2\n",
    "\n",
    "with pm.Model() as model:\n",
    "   \n",
    "    #could use beta dist cause theres only 2 factories but practice\n",
    "    w = pm.Dirichlet('weight', a=np.ones(k), shape=2, testval=[0.5,0.5]\n",
    "                     \n",
    "    omega = pm.Beta('omega', 2,2, shape=2, tesval=[0.2,0.6])\n",
    "                     \n",
    "    kappa = pm.Gamma('kappa', 1, .01, shape=2)\n",
    "                     \n",
    "    switch = pm.math.switch(omega[1]-omega[0]>0, -np.inf, 0)\n",
    "    \n",
    "    order_model_potential = pm.Potential('order_model_potential', switch)\n",
    "                     \n",
    "    factory = pm.Categorical('factory', p=w , shape=len(data))\n",
    "                     \n",
    "    theta = pm.Beta('theta', omega[factory]*kappa[facotry], (1-omega[factory])*kappa[factory], shape=len(data))\n",
    "    \n",
    "    y = pm.Binomial('y', n=data['N'], p=theta, observed=data['z'])"
   ]
  },
  {
   "cell_type": "code",
   "execution_count": null,
   "metadata": {},
   "outputs": [],
   "source": []
  }
 ],
 "metadata": {
  "kernelspec": {
   "display_name": "Python 3",
   "language": "python",
   "name": "python3"
  },
  "language_info": {
   "codemirror_mode": {
    "name": "ipython",
    "version": 3
   },
   "file_extension": ".py",
   "mimetype": "text/x-python",
   "name": "python",
   "nbconvert_exporter": "python",
   "pygments_lexer": "ipython3",
   "version": "3.7.6"
  }
 },
 "nbformat": 4,
 "nbformat_minor": 4
}
