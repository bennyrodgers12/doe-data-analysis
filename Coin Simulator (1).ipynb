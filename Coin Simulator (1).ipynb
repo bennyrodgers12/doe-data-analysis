{
 "cells": [
  {
   "cell_type": "code",
   "execution_count": 2,
   "metadata": {},
   "outputs": [],
   "source": [
    "import numpy as np\n",
    "import matplotlib.pyplot as plt\n",
    "\n",
    "from scipy.stats import distributions\n",
    "from scipy.optimize import minimize"
   ]
  },
  {
   "cell_type": "code",
   "execution_count": 3,
   "metadata": {},
   "outputs": [],
   "source": [
    "def flip_coin(p_heads=0.8):\n",
    "    result = np.random.binomial(1,p_heads) \n",
    "    return result"
   ]
  },
  {
   "cell_type": "code",
   "execution_count": 4,
   "metadata": {},
   "outputs": [
    {
     "data": {
      "text/plain": [
       "0"
      ]
     },
     "execution_count": 4,
     "metadata": {},
     "output_type": "execute_result"
    }
   ],
   "source": [
    "flip_coin(.5)"
   ]
  },
  {
   "cell_type": "code",
   "execution_count": 5,
   "metadata": {},
   "outputs": [],
   "source": [
    "prob = 0.8\n",
    "n = 5000\n",
    "data = np.arange(n)\n",
    "for i in range(0,n):\n",
    "    data[i] = flip_coin(prob)\n",
    "    i+=1"
   ]
  },
  {
   "cell_type": "code",
   "execution_count": 6,
   "metadata": {},
   "outputs": [
    {
     "name": "stdout",
     "output_type": "stream",
     "text": [
      "Heads 3942\n",
      "Tails 1058\n"
     ]
    }
   ],
   "source": [
    "print(\"Heads\", np.count_nonzero(data == 1))\n",
    "print(\"Tails\", np.count_nonzero(data == 0))"
   ]
  },
  {
   "cell_type": "code",
   "execution_count": 21,
   "metadata": {},
   "outputs": [],
   "source": [
    "# Farr solution\n",
    "def coin_flip(p_heads=.8):\n",
    "    if np.random.uniform() < p_heads: #different way to choose\n",
    "        return 'H'\n",
    "    else:\n",
    "        return 'T'"
   ]
  },
  {
   "cell_type": "code",
   "execution_count": 22,
   "metadata": {},
   "outputs": [],
   "source": [
    "nflips = 5000\n",
    "\n",
    "flips = []\n",
    "for i in range(nflips):\n",
    "    flips.append(coin_flip())"
   ]
  },
  {
   "cell_type": "code",
   "execution_count": null,
   "metadata": {},
   "outputs": [],
   "source": []
  },
  {
   "cell_type": "code",
   "execution_count": 23,
   "metadata": {},
   "outputs": [],
   "source": [
    "nheads = 0\n",
    "head_counts = []\n",
    "for i in range(nflips):\n",
    "    if coin_flip() == 'H':\n",
    "        nheads +=1\n",
    "    head_counts.append(nheads)"
   ]
  },
  {
   "cell_type": "code",
   "execution_count": 24,
   "metadata": {},
   "outputs": [
    {
     "name": "stdout",
     "output_type": "stream",
     "text": [
      "3968\n"
     ]
    },
    {
     "data": {
      "image/png": "[encoded data removed]",
      "text/plain": [
       "<Figure size 432x288 with 1 Axes>"
      ]
     },
     "metadata": {
      "needs_background": "light"
     },
     "output_type": "display_data"
    }
   ],
   "source": [
    "plt.plot(head_counts)\n",
    "print(nheads)"
   ]
  },
  {
   "cell_type": "code",
   "execution_count": 25,
   "metadata": {},
   "outputs": [],
   "source": [
    "nflips = 50\n",
    "ntrials = 1000\n",
    "pheads = 0.5\n",
    "\n",
    "trials = []\n",
    "for trial in range(ntrials):\n",
    "    nheads = 0\n",
    "    for i in range(nflips):\n",
    "        if coin_flip(pheads)== 'H':\n",
    "            nheads += 1\n",
    "        trials.append(nheads)\n",
    "        "
   ]
  },
  {
   "cell_type": "code",
   "execution_count": 27,
   "metadata": {},
   "outputs": [
    {
     "data": {
      "image/png": "[encoded data removed]",
      "text/plain": [
       "<Figure size 432x288 with 1 Axes>"
      ]
     },
     "metadata": {
      "needs_background": "light"
     },
     "output_type": "display_data"
    }
   ],
   "source": [
    "plt.hist(trials, density=True);\n",
    "xs = np.arange(distributions.binom.ppf(0.001, nflips, pheads), distributions.binom.ppf(0.999, nflips, pheads))\n",
    "\n",
    "plt.plot(xs, distributions.binom.pmf(xs, nflips, pheads), 'bo', label='binom pmf');"
   ]
  },
  {
   "cell_type": "code",
   "execution_count": null,
   "metadata": {
    "collapsed": true
   },
   "outputs": [],
   "source": []
  }
 ],
 "metadata": {
  "anaconda-cloud": {},
  "kernelspec": {
   "display_name": "Python 3",
   "language": "python",
   "name": "python3"
  },
  "language_info": {
   "codemirror_mode": {
    "name": "ipython",
    "version": 3
   },
   "file_extension": ".py",
   "mimetype": "text/x-python",
   "name": "python",
   "nbconvert_exporter": "python",
   "pygments_lexer": "ipython3",
   "version": "3.7.6"
  }
 },
 "nbformat": 4,
 "nbformat_minor": 1
}
